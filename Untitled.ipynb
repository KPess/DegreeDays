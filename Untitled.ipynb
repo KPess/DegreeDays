{
 "cells": [
  {
   "cell_type": "code",
   "execution_count": 210,
   "id": "778d8022-686e-4c94-97f5-edba18938dc3",
   "metadata": {},
   "outputs": [],
   "source": [
    "import pandas as pd\n"
   ]
  },
  {
   "cell_type": "code",
   "execution_count": 211,
   "id": "1054e409-1f25-48b0-aab0-5ade1936f2d8",
   "metadata": {
    "tags": []
   },
   "outputs": [],
   "source": [
    "import numpy as np"
   ]
  },
  {
   "cell_type": "code",
   "execution_count": 212,
   "id": "0c2bcd91-a1ca-42ec-937c-896df0c9dead",
   "metadata": {
    "tags": []
   },
   "outputs": [],
   "source": [
    "df = pd.read_csv('../SynMax/Population Data.csv')"
   ]
  },
  {
   "cell_type": "code",
   "execution_count": 213,
   "id": "069cc539-c615-4a67-8348-444819ffac30",
   "metadata": {
    "tags": []
   },
   "outputs": [],
   "source": [
    "df2 = pd.read_csv('../Synmax/Temperature Data.csv')"
   ]
  },
  {
   "cell_type": "code",
   "execution_count": 214,
   "id": "28b712ee-a225-4e78-96fc-662eff5f9726",
   "metadata": {
    "tags": []
   },
   "outputs": [
    {
     "output_type": "execute_result",
     "data": {
      "text/plain": [
       "pandas.core.frame.DataFrame"
      ]
     },
     "metadata": {},
     "execution_count": 214
    }
   ],
   "source": [
    "type(df2)"
   ]
  },
  {
   "cell_type": "code",
   "execution_count": 215,
   "id": "f0c4fa7d-ba93-4fe2-a72f-e1adf4e1f49f",
   "metadata": {},
   "outputs": [
    {
     "output_type": "execute_result",
     "data": {
      "text/plain": [
       "pandas.core.frame.DataFrame"
      ]
     },
     "metadata": {},
     "execution_count": 215
    }
   ],
   "source": [
    "type(df)\n"
   ]
  },
  {
   "cell_type": "code",
   "execution_count": 216,
   "id": "6bae562a-5a4d-4f68-9079-3ebd9f8423a4",
   "metadata": {},
   "outputs": [
    {
     "output_type": "execute_result",
     "data": {
      "text/plain": [
       "(285, 5)"
      ]
     },
     "metadata": {},
     "execution_count": 216
    }
   ],
   "source": [
    "df.shape"
   ]
  },
  {
   "cell_type": "code",
   "execution_count": 217,
   "id": "ad39521b-f916-4a09-9144-0dbf75df01c4",
   "metadata": {},
   "outputs": [
    {
     "output_type": "execute_result",
     "data": {
      "text/plain": [
       "(89219, 9)"
      ]
     },
     "metadata": {},
     "execution_count": 217
    }
   ],
   "source": [
    "df2.shape"
   ]
  },
  {
   "cell_type": "code",
   "execution_count": 218,
   "id": "1a3cc978-e1db-4e22-98cb-2c16a36297da",
   "metadata": {},
   "outputs": [
    {
     "output_type": "execute_result",
     "data": {
      "text/plain": [
       "         City          State  population       Lon      Lat\n",
       "0   Henderson         Nevada      260068 -115.0375  36.0122\n",
       "1  Manchester  New Hampshire      109830  -71.4439  42.9847\n",
       "2   Elizabeth     New Jersey      125660  -74.1935  40.6663\n",
       "3      Newark     New Jersey      277540  -74.1726  40.7242\n",
       "4    Paterson     New Jersey      146427  -74.1628  40.9147"
      ],
      "text/html": "<div>\n<style scoped>\n    .dataframe tbody tr th:only-of-type {\n        vertical-align: middle;\n    }\n\n    .dataframe tbody tr th {\n        vertical-align: top;\n    }\n\n    .dataframe thead th {\n        text-align: right;\n    }\n</style>\n<table border=\"1\" class=\"dataframe\">\n  <thead>\n    <tr style=\"text-align: right;\">\n      <th></th>\n      <th>City</th>\n      <th>State</th>\n      <th>population</th>\n      <th>Lon</th>\n      <th>Lat</th>\n    </tr>\n  </thead>\n  <tbody>\n    <tr>\n      <th>0</th>\n      <td>Henderson</td>\n      <td>Nevada</td>\n      <td>260068</td>\n      <td>-115.0375</td>\n      <td>36.0122</td>\n    </tr>\n    <tr>\n      <th>1</th>\n      <td>Manchester</td>\n      <td>New Hampshire</td>\n      <td>109830</td>\n      <td>-71.4439</td>\n      <td>42.9847</td>\n    </tr>\n    <tr>\n      <th>2</th>\n      <td>Elizabeth</td>\n      <td>New Jersey</td>\n      <td>125660</td>\n      <td>-74.1935</td>\n      <td>40.6663</td>\n    </tr>\n    <tr>\n      <th>3</th>\n      <td>Newark</td>\n      <td>New Jersey</td>\n      <td>277540</td>\n      <td>-74.1726</td>\n      <td>40.7242</td>\n    </tr>\n    <tr>\n      <th>4</th>\n      <td>Paterson</td>\n      <td>New Jersey</td>\n      <td>146427</td>\n      <td>-74.1628</td>\n      <td>40.9147</td>\n    </tr>\n  </tbody>\n</table>\n</div>"
     },
     "metadata": {},
     "execution_count": 218
    }
   ],
   "source": [
    "df.head()"
   ]
  },
  {
   "cell_type": "code",
   "execution_count": 219,
   "id": "1b62fea8-b2bc-4c3b-8c63-e8f0c1c84cab",
   "metadata": {},
   "outputs": [
    {
     "output_type": "execute_result",
     "data": {
      "text/plain": [
       "            name  country_name country_code      continent station_code  \\\n",
       "0        Atlanta  UnitedStates          USA  North America         KATL   \n",
       "1  Windsor Locks  UnitedStates          USA  North America         KBDL   \n",
       "2      Nashville  UnitedStates          USA  North America         KBNA   \n",
       "3          Boise  UnitedStates          USA  North America         KBOI   \n",
       "4         Boston  UnitedStates          USA  North America         KBOS   \n",
       "\n",
       "  location_date  temp_mean_c  temp_min_c  temp_max_c  \n",
       "0     4/20/2021    17.491667        12.2        23.3  \n",
       "1     4/20/2021    13.887500         3.9        22.2  \n",
       "2     4/20/2021    15.175000         6.7        23.3  \n",
       "3     4/20/2021     9.329167         1.7        15.6  \n",
       "4     4/20/2021    16.716667        10.0        23.9  "
      ],
      "text/html": "<div>\n<style scoped>\n    .dataframe tbody tr th:only-of-type {\n        vertical-align: middle;\n    }\n\n    .dataframe tbody tr th {\n        vertical-align: top;\n    }\n\n    .dataframe thead th {\n        text-align: right;\n    }\n</style>\n<table border=\"1\" class=\"dataframe\">\n  <thead>\n    <tr style=\"text-align: right;\">\n      <th></th>\n      <th>name</th>\n      <th>country_name</th>\n      <th>country_code</th>\n      <th>continent</th>\n      <th>station_code</th>\n      <th>location_date</th>\n      <th>temp_mean_c</th>\n      <th>temp_min_c</th>\n      <th>temp_max_c</th>\n    </tr>\n  </thead>\n  <tbody>\n    <tr>\n      <th>0</th>\n      <td>Atlanta</td>\n      <td>UnitedStates</td>\n      <td>USA</td>\n      <td>North America</td>\n      <td>KATL</td>\n      <td>4/20/2021</td>\n      <td>17.491667</td>\n      <td>12.2</td>\n      <td>23.3</td>\n    </tr>\n    <tr>\n      <th>1</th>\n      <td>Windsor Locks</td>\n      <td>UnitedStates</td>\n      <td>USA</td>\n      <td>North America</td>\n      <td>KBDL</td>\n      <td>4/20/2021</td>\n      <td>13.887500</td>\n      <td>3.9</td>\n      <td>22.2</td>\n    </tr>\n    <tr>\n      <th>2</th>\n      <td>Nashville</td>\n      <td>UnitedStates</td>\n      <td>USA</td>\n      <td>North America</td>\n      <td>KBNA</td>\n      <td>4/20/2021</td>\n      <td>15.175000</td>\n      <td>6.7</td>\n      <td>23.3</td>\n    </tr>\n    <tr>\n      <th>3</th>\n      <td>Boise</td>\n      <td>UnitedStates</td>\n      <td>USA</td>\n      <td>North America</td>\n      <td>KBOI</td>\n      <td>4/20/2021</td>\n      <td>9.329167</td>\n      <td>1.7</td>\n      <td>15.6</td>\n    </tr>\n    <tr>\n      <th>4</th>\n      <td>Boston</td>\n      <td>UnitedStates</td>\n      <td>USA</td>\n      <td>North America</td>\n      <td>KBOS</td>\n      <td>4/20/2021</td>\n      <td>16.716667</td>\n      <td>10.0</td>\n      <td>23.9</td>\n    </tr>\n  </tbody>\n</table>\n</div>"
     },
     "metadata": {},
     "execution_count": 219
    }
   ],
   "source": [
    "df2.head()"
   ]
  },
  {
   "cell_type": "code",
   "execution_count": 220,
   "id": "0db3a2f4-0fc3-431f-adaa-a0c8a430141a",
   "metadata": {},
   "outputs": [
    {
     "output_type": "execute_result",
     "data": {
      "text/plain": [
       "                City          State  population       Lon      Lat\n",
       "0          Henderson         Nevada      260068 -115.0375  36.0122\n",
       "1         Manchester  New Hampshire      109830  -71.4439  42.9847\n",
       "2          Elizabeth     New Jersey      125660  -74.1935  40.6663\n",
       "3             Newark     New Jersey      277540  -74.1726  40.7242\n",
       "4           Paterson     New Jersey      146427  -74.1628  40.9147\n",
       "..               ...            ...         ...       ...      ...\n",
       "280            Miami        Florida      408750  -80.2086  25.7752\n",
       "281        Hollywood        Florida      143357  -80.1646  26.0311\n",
       "282  Fort Lauderdale        Florida      168528  -80.1439  26.1413\n",
       "283    Pompano Beach        Florida      101617  -80.1290  26.2426\n",
       "284  West Palm Beach        Florida      101043  -80.1266  26.7483\n",
       "\n",
       "[285 rows x 5 columns]"
      ],
      "text/html": "<div>\n<style scoped>\n    .dataframe tbody tr th:only-of-type {\n        vertical-align: middle;\n    }\n\n    .dataframe tbody tr th {\n        vertical-align: top;\n    }\n\n    .dataframe thead th {\n        text-align: right;\n    }\n</style>\n<table border=\"1\" class=\"dataframe\">\n  <thead>\n    <tr style=\"text-align: right;\">\n      <th></th>\n      <th>City</th>\n      <th>State</th>\n      <th>population</th>\n      <th>Lon</th>\n      <th>Lat</th>\n    </tr>\n  </thead>\n  <tbody>\n    <tr>\n      <th>0</th>\n      <td>Henderson</td>\n      <td>Nevada</td>\n      <td>260068</td>\n      <td>-115.0375</td>\n      <td>36.0122</td>\n    </tr>\n    <tr>\n      <th>1</th>\n      <td>Manchester</td>\n      <td>New Hampshire</td>\n      <td>109830</td>\n      <td>-71.4439</td>\n      <td>42.9847</td>\n    </tr>\n    <tr>\n      <th>2</th>\n      <td>Elizabeth</td>\n      <td>New Jersey</td>\n      <td>125660</td>\n      <td>-74.1935</td>\n      <td>40.6663</td>\n    </tr>\n    <tr>\n      <th>3</th>\n      <td>Newark</td>\n      <td>New Jersey</td>\n      <td>277540</td>\n      <td>-74.1726</td>\n      <td>40.7242</td>\n    </tr>\n    <tr>\n      <th>4</th>\n      <td>Paterson</td>\n      <td>New Jersey</td>\n      <td>146427</td>\n      <td>-74.1628</td>\n      <td>40.9147</td>\n    </tr>\n    <tr>\n      <th>...</th>\n      <td>...</td>\n      <td>...</td>\n      <td>...</td>\n      <td>...</td>\n      <td>...</td>\n    </tr>\n    <tr>\n      <th>280</th>\n      <td>Miami</td>\n      <td>Florida</td>\n      <td>408750</td>\n      <td>-80.2086</td>\n      <td>25.7752</td>\n    </tr>\n    <tr>\n      <th>281</th>\n      <td>Hollywood</td>\n      <td>Florida</td>\n      <td>143357</td>\n      <td>-80.1646</td>\n      <td>26.0311</td>\n    </tr>\n    <tr>\n      <th>282</th>\n      <td>Fort Lauderdale</td>\n      <td>Florida</td>\n      <td>168528</td>\n      <td>-80.1439</td>\n      <td>26.1413</td>\n    </tr>\n    <tr>\n      <th>283</th>\n      <td>Pompano Beach</td>\n      <td>Florida</td>\n      <td>101617</td>\n      <td>-80.1290</td>\n      <td>26.2426</td>\n    </tr>\n    <tr>\n      <th>284</th>\n      <td>West Palm Beach</td>\n      <td>Florida</td>\n      <td>101043</td>\n      <td>-80.1266</td>\n      <td>26.7483</td>\n    </tr>\n  </tbody>\n</table>\n<p>285 rows × 5 columns</p>\n</div>"
     },
     "metadata": {},
     "execution_count": 220
    }
   ],
   "source": [
    "df"
   ]
  },
  {
   "cell_type": "code",
   "execution_count": 221,
   "id": "01108ec4-1cb4-4271-ac98-0def50696f62",
   "metadata": {},
   "outputs": [
    {
     "output_type": "execute_result",
     "data": {
      "text/plain": [
       "                   name  country_name country_code      continent  \\\n",
       "0               Atlanta  UnitedStates          USA  North America   \n",
       "1         Windsor Locks  UnitedStates          USA  North America   \n",
       "2             Nashville  UnitedStates          USA  North America   \n",
       "3                 Boise  UnitedStates          USA  North America   \n",
       "4                Boston  UnitedStates          USA  North America   \n",
       "...                 ...           ...          ...            ...   \n",
       "89214  Sacramento/Execu  UnitedStates          USA  North America   \n",
       "89215          Portland  UnitedStates          USA  North America   \n",
       "89216    Raleigh/Durham  UnitedStates          USA  North America   \n",
       "89217        Pittsburgh  UnitedStates          USA  North America   \n",
       "89218  Phoenix/Sky HRBR  UnitedStates          USA  North America   \n",
       "\n",
       "      station_code location_date  temp_mean_c  temp_min_c  temp_max_c  \n",
       "0             KATL     4/20/2021    17.491667        12.2        23.3  \n",
       "1             KBDL     4/20/2021    13.887500         3.9        22.2  \n",
       "2             KBNA     4/20/2021    15.175000         6.7        23.3  \n",
       "3             KBOI     4/20/2021     9.329167         1.7        15.6  \n",
       "4             KBOS     4/20/2021    16.716667        10.0        23.9  \n",
       "...            ...           ...          ...         ...         ...  \n",
       "89214         KSAC      1/1/2015     3.500000        -1.7        10.6  \n",
       "89215         KPWM      1/1/2015    -3.454167        -7.8        -0.6  \n",
       "89216         KRDU      1/1/2015     3.291667        -4.4        10.6  \n",
       "89217         KPIT      1/1/2015    -2.570833        -6.7         1.7  \n",
       "89218         KPHX      1/1/2015     4.354167         1.7         7.2  \n",
       "\n",
       "[89219 rows x 9 columns]"
      ],
      "text/html": "<div>\n<style scoped>\n    .dataframe tbody tr th:only-of-type {\n        vertical-align: middle;\n    }\n\n    .dataframe tbody tr th {\n        vertical-align: top;\n    }\n\n    .dataframe thead th {\n        text-align: right;\n    }\n</style>\n<table border=\"1\" class=\"dataframe\">\n  <thead>\n    <tr style=\"text-align: right;\">\n      <th></th>\n      <th>name</th>\n      <th>country_name</th>\n      <th>country_code</th>\n      <th>continent</th>\n      <th>station_code</th>\n      <th>location_date</th>\n      <th>temp_mean_c</th>\n      <th>temp_min_c</th>\n      <th>temp_max_c</th>\n    </tr>\n  </thead>\n  <tbody>\n    <tr>\n      <th>0</th>\n      <td>Atlanta</td>\n      <td>UnitedStates</td>\n      <td>USA</td>\n      <td>North America</td>\n      <td>KATL</td>\n      <td>4/20/2021</td>\n      <td>17.491667</td>\n      <td>12.2</td>\n      <td>23.3</td>\n    </tr>\n    <tr>\n      <th>1</th>\n      <td>Windsor Locks</td>\n      <td>UnitedStates</td>\n      <td>USA</td>\n      <td>North America</td>\n      <td>KBDL</td>\n      <td>4/20/2021</td>\n      <td>13.887500</td>\n      <td>3.9</td>\n      <td>22.2</td>\n    </tr>\n    <tr>\n      <th>2</th>\n      <td>Nashville</td>\n      <td>UnitedStates</td>\n      <td>USA</td>\n      <td>North America</td>\n      <td>KBNA</td>\n      <td>4/20/2021</td>\n      <td>15.175000</td>\n      <td>6.7</td>\n      <td>23.3</td>\n    </tr>\n    <tr>\n      <th>3</th>\n      <td>Boise</td>\n      <td>UnitedStates</td>\n      <td>USA</td>\n      <td>North America</td>\n      <td>KBOI</td>\n      <td>4/20/2021</td>\n      <td>9.329167</td>\n      <td>1.7</td>\n      <td>15.6</td>\n    </tr>\n    <tr>\n      <th>4</th>\n      <td>Boston</td>\n      <td>UnitedStates</td>\n      <td>USA</td>\n      <td>North America</td>\n      <td>KBOS</td>\n      <td>4/20/2021</td>\n      <td>16.716667</td>\n      <td>10.0</td>\n      <td>23.9</td>\n    </tr>\n    <tr>\n      <th>...</th>\n      <td>...</td>\n      <td>...</td>\n      <td>...</td>\n      <td>...</td>\n      <td>...</td>\n      <td>...</td>\n      <td>...</td>\n      <td>...</td>\n      <td>...</td>\n    </tr>\n    <tr>\n      <th>89214</th>\n      <td>Sacramento/Execu</td>\n      <td>UnitedStates</td>\n      <td>USA</td>\n      <td>North America</td>\n      <td>KSAC</td>\n      <td>1/1/2015</td>\n      <td>3.500000</td>\n      <td>-1.7</td>\n      <td>10.6</td>\n    </tr>\n    <tr>\n      <th>89215</th>\n      <td>Portland</td>\n      <td>UnitedStates</td>\n      <td>USA</td>\n      <td>North America</td>\n      <td>KPWM</td>\n      <td>1/1/2015</td>\n      <td>-3.454167</td>\n      <td>-7.8</td>\n      <td>-0.6</td>\n    </tr>\n    <tr>\n      <th>89216</th>\n      <td>Raleigh/Durham</td>\n      <td>UnitedStates</td>\n      <td>USA</td>\n      <td>North America</td>\n      <td>KRDU</td>\n      <td>1/1/2015</td>\n      <td>3.291667</td>\n      <td>-4.4</td>\n      <td>10.6</td>\n    </tr>\n    <tr>\n      <th>89217</th>\n      <td>Pittsburgh</td>\n      <td>UnitedStates</td>\n      <td>USA</td>\n      <td>North America</td>\n      <td>KPIT</td>\n      <td>1/1/2015</td>\n      <td>-2.570833</td>\n      <td>-6.7</td>\n      <td>1.7</td>\n    </tr>\n    <tr>\n      <th>89218</th>\n      <td>Phoenix/Sky HRBR</td>\n      <td>UnitedStates</td>\n      <td>USA</td>\n      <td>North America</td>\n      <td>KPHX</td>\n      <td>1/1/2015</td>\n      <td>4.354167</td>\n      <td>1.7</td>\n      <td>7.2</td>\n    </tr>\n  </tbody>\n</table>\n<p>89219 rows × 9 columns</p>\n</div>"
     },
     "metadata": {},
     "execution_count": 221
    }
   ],
   "source": [
    "df2"
   ]
  },
  {
   "cell_type": "code",
   "execution_count": null,
   "id": "75a175c2-2c2b-4a55-b9e9-847458758669",
   "metadata": {},
   "outputs": [],
   "source": []
  },
  {
   "cell_type": "code",
   "execution_count": 222,
   "id": "01c33702-f375-4571-8184-1235f3a88a7b",
   "metadata": {},
   "outputs": [
    {
     "output_type": "execute_result",
     "data": {
      "text/plain": [
       "Index(['City', 'State', 'population', 'Lon', 'Lat'], dtype='object')"
      ]
     },
     "metadata": {},
     "execution_count": 222
    }
   ],
   "source": [
    "df.columns"
   ]
  },
  {
   "cell_type": "code",
   "execution_count": 223,
   "id": "032be9d7-b6df-47e8-9c92-6da70258f880",
   "metadata": {},
   "outputs": [
    {
     "output_type": "execute_result",
     "data": {
      "text/plain": [
       "Index(['name', 'country_name', 'country_code', 'continent', 'station_code',\n",
       "       'location_date', 'temp_mean_c', 'temp_min_c', 'temp_max_c'],\n",
       "      dtype='object')"
      ]
     },
     "metadata": {},
     "execution_count": 223
    }
   ],
   "source": [
    "df2.columns"
   ]
  },
  {
   "cell_type": "code",
   "execution_count": 224,
   "id": "160827fa-97b2-43c4-a8cc-63739717ef13",
   "metadata": {},
   "outputs": [
    {
     "output_type": "execute_result",
     "data": {
      "text/plain": [
       "array([['Henderson', 'Nevada', 260068, -115.0375, 36.0122],\n",
       "       ['Manchester', 'New Hampshire', 109830, -71.4439, 42.9847],\n",
       "       ['Elizabeth', 'New Jersey', 125660, -74.1935, 40.6663],\n",
       "       ...,\n",
       "       ['Fort Lauderdale', 'Florida', 168528, -80.1439, 26.1413],\n",
       "       ['Pompano Beach', 'Florida', 101617, -80.129, 26.2426],\n",
       "       ['West Palm Beach', 'Florida', 101043, -80.1266, 26.7483]],\n",
       "      dtype=object)"
      ]
     },
     "metadata": {},
     "execution_count": 224
    }
   ],
   "source": [
    "df.values"
   ]
  },
  {
   "cell_type": "code",
   "execution_count": 225,
   "id": "1bf8d4ba-a69f-4dfb-8d70-ac10e7dcb812",
   "metadata": {},
   "outputs": [
    {
     "output_type": "execute_result",
     "data": {
      "text/plain": [
       "array([['Atlanta', 'UnitedStates', 'USA', ..., 17.4916667, 12.2, 23.3],\n",
       "       ['Windsor Locks', 'UnitedStates', 'USA', ..., 13.8875, 3.9, 22.2],\n",
       "       ['Nashville', 'UnitedStates', 'USA', ..., 15.175, 6.7, 23.3],\n",
       "       ...,\n",
       "       ['Raleigh/Durham', 'UnitedStates', 'USA', ..., 3.2916667, -4.4,\n",
       "        10.6],\n",
       "       ['Pittsburgh', 'UnitedStates', 'USA', ..., -2.5708333, -6.7, 1.7],\n",
       "       ['Phoenix/Sky HRBR', 'UnitedStates', 'USA', ..., 4.3541667, 1.7,\n",
       "        7.2]], dtype=object)"
      ]
     },
     "metadata": {},
     "execution_count": 225
    }
   ],
   "source": [
    "df2.values"
   ]
  },
  {
   "cell_type": "code",
   "execution_count": 226,
   "id": "c5cd52ee-e2d5-421a-a3a9-8367e3023f28",
   "metadata": {},
   "outputs": [],
   "source": [
    "df2bydate = df2.groupby(['location_date', 'name'])[['temp_mean_c', 'temp_min_c', 'temp_max_c']].agg(np.mean)"
   ]
  },
  {
   "cell_type": "code",
   "execution_count": 227,
   "id": "ff870ee8-861b-4023-9ee8-2590a7528d1a",
   "metadata": {},
   "outputs": [
    {
     "output_type": "execute_result",
     "data": {
      "text/plain": [
       "                                temp_mean_c  temp_min_c  temp_max_c\n",
       "location_date name                                                 \n",
       "1/1/2015      Albany              -3.362500        -7.2         0.0\n",
       "              Atlanta              6.758333         0.0        13.9\n",
       "              Baltimore           -0.345833        -7.8         6.1\n",
       "              Boise              -11.070833       -13.9        -8.0\n",
       "              Boston              -2.329167        -5.6         0.6\n",
       "...                                     ...         ...         ...\n",
       "9/9/2020      Spokane             17.358333         8.9        26.1\n",
       "              St Louis/Lambert    23.937500        19.4        29.4\n",
       "              Wash DC/Dulles      23.179167        20.0        26.1\n",
       "              Washington          24.229167        22.8        26.1\n",
       "              Windsor Locks       22.425000        18.3        27.8\n",
       "\n",
       "[86932 rows x 3 columns]"
      ],
      "text/html": "<div>\n<style scoped>\n    .dataframe tbody tr th:only-of-type {\n        vertical-align: middle;\n    }\n\n    .dataframe tbody tr th {\n        vertical-align: top;\n    }\n\n    .dataframe thead th {\n        text-align: right;\n    }\n</style>\n<table border=\"1\" class=\"dataframe\">\n  <thead>\n    <tr style=\"text-align: right;\">\n      <th></th>\n      <th></th>\n      <th>temp_mean_c</th>\n      <th>temp_min_c</th>\n      <th>temp_max_c</th>\n    </tr>\n    <tr>\n      <th>location_date</th>\n      <th>name</th>\n      <th></th>\n      <th></th>\n      <th></th>\n    </tr>\n  </thead>\n  <tbody>\n    <tr>\n      <th rowspan=\"5\" valign=\"top\">1/1/2015</th>\n      <th>Albany</th>\n      <td>-3.362500</td>\n      <td>-7.2</td>\n      <td>0.0</td>\n    </tr>\n    <tr>\n      <th>Atlanta</th>\n      <td>6.758333</td>\n      <td>0.0</td>\n      <td>13.9</td>\n    </tr>\n    <tr>\n      <th>Baltimore</th>\n      <td>-0.345833</td>\n      <td>-7.8</td>\n      <td>6.1</td>\n    </tr>\n    <tr>\n      <th>Boise</th>\n      <td>-11.070833</td>\n      <td>-13.9</td>\n      <td>-8.0</td>\n    </tr>\n    <tr>\n      <th>Boston</th>\n      <td>-2.329167</td>\n      <td>-5.6</td>\n      <td>0.6</td>\n    </tr>\n    <tr>\n      <th>...</th>\n      <th>...</th>\n      <td>...</td>\n      <td>...</td>\n      <td>...</td>\n    </tr>\n    <tr>\n      <th rowspan=\"5\" valign=\"top\">9/9/2020</th>\n      <th>Spokane</th>\n      <td>17.358333</td>\n      <td>8.9</td>\n      <td>26.1</td>\n    </tr>\n    <tr>\n      <th>St Louis/Lambert</th>\n      <td>23.937500</td>\n      <td>19.4</td>\n      <td>29.4</td>\n    </tr>\n    <tr>\n      <th>Wash DC/Dulles</th>\n      <td>23.179167</td>\n      <td>20.0</td>\n      <td>26.1</td>\n    </tr>\n    <tr>\n      <th>Washington</th>\n      <td>24.229167</td>\n      <td>22.8</td>\n      <td>26.1</td>\n    </tr>\n    <tr>\n      <th>Windsor Locks</th>\n      <td>22.425000</td>\n      <td>18.3</td>\n      <td>27.8</td>\n    </tr>\n  </tbody>\n</table>\n<p>86932 rows × 3 columns</p>\n</div>"
     },
     "metadata": {},
     "execution_count": 227
    }
   ],
   "source": [
    "df2bydate"
   ]
  },
  {
   "cell_type": "code",
   "execution_count": 228,
   "id": "d5126a4e-1838-4087-ae09-9e25b6d495a2",
   "metadata": {},
   "outputs": [
    {
     "output_type": "execute_result",
     "data": {
      "text/plain": [
       "                                temp_mean_c  temp_min_c  temp_max_c\n",
       "location_date name                                                 \n",
       "1/1/2015      Albany              -3.362500        -7.2         0.0\n",
       "              Atlanta              6.758333         0.0        13.9\n",
       "              Baltimore           -0.345833        -7.8         6.1\n",
       "              Boise              -11.070833       -13.9        -8.0\n",
       "              Boston              -2.329167        -5.6         0.6\n",
       "...                                     ...         ...         ...\n",
       "9/9/2020      Spokane             17.358333         8.9        26.1\n",
       "              St Louis/Lambert    23.937500        19.4        29.4\n",
       "              Wash DC/Dulles      23.179167        20.0        26.1\n",
       "              Washington          24.229167        22.8        26.1\n",
       "              Windsor Locks       22.425000        18.3        27.8\n",
       "\n",
       "[86932 rows x 3 columns]"
      ],
      "text/html": "<div>\n<style scoped>\n    .dataframe tbody tr th:only-of-type {\n        vertical-align: middle;\n    }\n\n    .dataframe tbody tr th {\n        vertical-align: top;\n    }\n\n    .dataframe thead th {\n        text-align: right;\n    }\n</style>\n<table border=\"1\" class=\"dataframe\">\n  <thead>\n    <tr style=\"text-align: right;\">\n      <th></th>\n      <th></th>\n      <th>temp_mean_c</th>\n      <th>temp_min_c</th>\n      <th>temp_max_c</th>\n    </tr>\n    <tr>\n      <th>location_date</th>\n      <th>name</th>\n      <th></th>\n      <th></th>\n      <th></th>\n    </tr>\n  </thead>\n  <tbody>\n    <tr>\n      <th rowspan=\"5\" valign=\"top\">1/1/2015</th>\n      <th>Albany</th>\n      <td>-3.362500</td>\n      <td>-7.2</td>\n      <td>0.0</td>\n    </tr>\n    <tr>\n      <th>Atlanta</th>\n      <td>6.758333</td>\n      <td>0.0</td>\n      <td>13.9</td>\n    </tr>\n    <tr>\n      <th>Baltimore</th>\n      <td>-0.345833</td>\n      <td>-7.8</td>\n      <td>6.1</td>\n    </tr>\n    <tr>\n      <th>Boise</th>\n      <td>-11.070833</td>\n      <td>-13.9</td>\n      <td>-8.0</td>\n    </tr>\n    <tr>\n      <th>Boston</th>\n      <td>-2.329167</td>\n      <td>-5.6</td>\n      <td>0.6</td>\n    </tr>\n    <tr>\n      <th>...</th>\n      <th>...</th>\n      <td>...</td>\n      <td>...</td>\n      <td>...</td>\n    </tr>\n    <tr>\n      <th rowspan=\"5\" valign=\"top\">9/9/2020</th>\n      <th>Spokane</th>\n      <td>17.358333</td>\n      <td>8.9</td>\n      <td>26.1</td>\n    </tr>\n    <tr>\n      <th>St Louis/Lambert</th>\n      <td>23.937500</td>\n      <td>19.4</td>\n      <td>29.4</td>\n    </tr>\n    <tr>\n      <th>Wash DC/Dulles</th>\n      <td>23.179167</td>\n      <td>20.0</td>\n      <td>26.1</td>\n    </tr>\n    <tr>\n      <th>Washington</th>\n      <td>24.229167</td>\n      <td>22.8</td>\n      <td>26.1</td>\n    </tr>\n    <tr>\n      <th>Windsor Locks</th>\n      <td>22.425000</td>\n      <td>18.3</td>\n      <td>27.8</td>\n    </tr>\n  </tbody>\n</table>\n<p>86932 rows × 3 columns</p>\n</div>"
     },
     "metadata": {},
     "execution_count": 228
    }
   ],
   "source": [
    "df2bydate.interpolate()"
   ]
  },
  {
   "cell_type": "code",
   "execution_count": 229,
   "metadata": {},
   "outputs": [
    {
     "output_type": "execute_result",
     "data": {
      "text/plain": [
       "False"
      ]
     },
     "metadata": {},
     "execution_count": 229
    }
   ],
   "source": [
    "df2bydate['temp_mean_c'].isnull().values.any()"
   ]
  },
  {
   "cell_type": "code",
   "execution_count": 230,
   "metadata": {},
   "outputs": [
    {
     "output_type": "execute_result",
     "data": {
      "text/plain": [
       "False"
      ]
     },
     "metadata": {},
     "execution_count": 230
    }
   ],
   "source": [
    "df2bydate['temp_min_c'].isnull().values.any()"
   ]
  },
  {
   "cell_type": "code",
   "execution_count": 231,
   "metadata": {},
   "outputs": [
    {
     "output_type": "execute_result",
     "data": {
      "text/plain": [
       "False"
      ]
     },
     "metadata": {},
     "execution_count": 231
    }
   ],
   "source": [
    "df2bydate['temp_max_c'].isnull().values.any()"
   ]
  },
  {
   "cell_type": "code",
   "execution_count": 232,
   "metadata": {},
   "outputs": [
    {
     "output_type": "execute_result",
     "data": {
      "text/plain": [
       "False"
      ]
     },
     "metadata": {},
     "execution_count": 232
    }
   ],
   "source": [
    "df2.isnull().values.any()"
   ]
  },
  {
   "cell_type": "code",
   "execution_count": 233,
   "metadata": {},
   "outputs": [
    {
     "output_type": "execute_result",
     "data": {
      "text/plain": [
       "False"
      ]
     },
     "metadata": {},
     "execution_count": 233
    }
   ],
   "source": [
    "df.isnull().values.any()"
   ]
  },
  {
   "cell_type": "code",
   "execution_count": 234,
   "metadata": {},
   "outputs": [
    {
     "output_type": "stream",
     "name": "stdout",
     "text": [
      "No of unique cities: 38\nCities: ['Atlanta', 'Windsor Locks', 'Nashville', 'Boise', 'Boston', 'Buffalo', 'Burbank', 'Baltimore', 'Columbus', 'Los Angeles', 'Covington', 'Washington', 'Denver', 'Dallas', 'Detroit/Wayne', 'Fresno', 'Spokane', 'Wash DC/Dulles', 'Houston', 'Las Vegas', 'NYC/LaGuardia', 'Little Rock', 'Memphis', 'Minneapolis', 'New Orleans', \"Chicago O'Hare\", 'Portland', 'Philadelphia', 'Phoenix/Sky HRBR', 'Pittsburgh', 'Raleigh/Durham', 'Richmond', 'Sacramento/Execu', 'Seattle', 'San Francisco', 'Salt Lake City', 'St Louis/Lambert', 'Albany']\n"
     ]
    }
   ],
   "source": [
    "cnt2 = 0\n",
    "cities2 = []\n",
    "for i in range(0, len(df2)):\n",
    "    if df2['name'][i] not in cities2:\n",
    "        cities2.append(df2['name'][i])\n",
    "        cnt2 += 1\n",
    "\n",
    "print(\"No of unique cities:\", cnt2)\n",
    "print(\"Cities:\", cities2)"
   ]
  },
  {
   "cell_type": "code",
   "execution_count": 235,
   "metadata": {},
   "outputs": [
    {
     "output_type": "stream",
     "name": "stdout",
     "text": [
      "No of unique cities: 332\nCities: ['Henderson', 'Manchester', 'Elizabeth', 'Newark', 'Paterson', 'Jersey City', 'Albuquerque', 'Rochester', 'Syracuse', 'New York', 'Yonkers', 'Charlotte', 'Winston–Salem', 'High Point', 'Greensboro', 'Fayetteville', 'Durham', 'Cary', 'Raleigh', 'Wilmington', 'Fargo', 'Cincinnati', 'Dayton', 'Toledo', 'Cleveland', 'Akron', 'Oklahoma City', 'Norman', 'Tulsa', 'Broken Arrow', 'Eugene', 'Salem', 'Gresham', 'Erie', 'Allentown', 'Providence', 'Columbia', 'Charleston', 'Sioux Falls', 'Clarksville', 'Murfreesboro', 'Chattanooga', 'Knoxville', 'El Paso', 'Odessa', 'Midland', 'Lubbock', 'Amarillo', 'Abilene', 'Laredo', 'Wichita Falls', 'Killeen', 'Round Rock', 'Brownsville', 'Fort Worth', 'Waco', 'Corpus Christi', 'Denton', 'Arlington', 'Grand Prairie', 'Irving', 'Carrollton', 'Frisco', 'Plano', 'Richardson', 'McKinney', 'Garland', 'Mesquite', 'Pasadena', 'Beaumont', 'West Valley City', 'West Jordan', 'Provo', 'Alexandria', 'Newport News', 'Chesapeake', 'Hampton', 'Norfolk', 'Virginia Beach', 'Vancouver', 'Tacoma', 'Kent', 'Everett', 'Bellevue', 'Madison', 'Green Bay', 'Milwaukee', 'Costa Mesa', 'West Covina', 'Santa Ana', 'Orange', 'Irvine', 'Pomona', 'Anaheim', 'Ontario', 'Rancho Cucamonga', 'Corona', 'Fontana', 'Riverside', 'Rialto', 'Victorville', 'Oceanside', 'San Bernardino', 'Carlsbad', 'Moreno Valley', 'Murrieta', 'San Diego', 'Temecula', 'Escondido', 'Chula Vista', 'El Cajon', 'Lakewood', 'Arvada', 'Fort Collins', 'Westminster', 'Thornton', 'Centennial', 'Colorado Springs', 'Pueblo', 'Aurora', 'Stamford', 'Bridgeport', 'Athens', 'Augusta', 'Savannah', 'Honolulu', 'Springfield', 'Peoria', 'Rockford', 'Elgin', 'Aurora', 'Naperville', 'Joliet', 'Chicago', 'Evansville', 'South Bend', 'Indianapolis', 'Fort Wayne', 'Des Moines', 'Cedar Rapids', 'Davenport', 'Wichita', 'Topeka', 'Olathe', 'Kansas City', 'Overland Park', 'Louisville', 'Lexington', 'Shreveport', 'Lafayette', 'Baton Rouge', 'Springfield', 'Worcester', 'Lowell', 'Cambridge', 'Grand Rapids', 'Lansing', 'Ann Arbor', 'Flint', 'Detroit', 'Sterling Heights', 'Warren', 'Saint Paul', 'Rochester', 'Jackson', 'Kansas City', 'Independence', 'Springfield', 'Columbia', 'St. Louis', 'Billings', 'Lincoln', 'Omaha', 'Reno', 'North Las Vegas', 'San Antonio', 'McAllen', 'Austin', 'Mobile', 'Birmingham', 'Huntsville', 'Montgomery', 'Anchorage', 'Surprise', 'Peoria', 'Glendale', 'Phoenix', 'Tempe', 'Chandler', 'Scottsdale', 'Gilbert', 'Mesa', 'Tucson', 'Santa Rosa', 'Daly City', 'Berkeley', 'Vallejo', 'Oakland', 'Hayward', 'Fairfield', 'Sunnyvale', 'Concord', 'Santa Clara', 'Fremont', 'San Jose', 'Antioch', 'Salinas', 'Sacramento', 'Elk Grove', 'Stockton', 'Roseville', 'Modesto', 'Santa Maria', 'Visalia', 'San Buenaventura (Ventura)', 'Oxnard', 'Bakersfield', 'Thousand Oaks', 'Simi Valley', 'Santa Clarita', 'Inglewood', 'Torrance', 'Glendale', 'Lancaster', 'Long Beach', 'Pasadena', 'Downey', 'Palmdale', 'Norwalk', 'El Monte', 'Huntington Beach', 'Garden Grove', 'Fullerton', 'Waterbury', 'New Haven', 'Hartford', 'Tallahassee', 'Clearwater', 'Saint Petersburg', 'Tampa', 'Gainesville', 'Cape Coral', 'Jacksonville', 'Orlando', 'Palm Bay', 'Port Saint Lucie', 'Pembroke Pines', 'Miramar', 'Hialeah', 'Coral Springs', 'Miami Gardens', 'Miami', 'Hollywood', 'Fort Lauderdale', 'Pompano Beach', 'West Palm Beach']\n"
     ]
    }
   ],
   "source": [
    "cnt1 = 0\n",
    "cities1 = []\n",
    "for i in range(0, len(df)):\n",
    "    if df['City'][i] not in cities:\n",
    "        cities1.append(df['City'][i])\n",
    "        cnt1 += 1\n",
    "\n",
    "print(\"No of unique cities:\", cnt)\n",
    "print(\"Cities:\", cities1)"
   ]
  }
 ],
 "metadata": {
  "kernelspec": {
   "name": "python388jvsc74a57bd0e96f6acdfbe39255c7875dee1b1acc7feafbd646fa220a924b021b041aac88e9",
   "display_name": "Python 3.8.8 64-bit ('base': conda)"
  },
  "language_info": {
   "codemirror_mode": {
    "name": "ipython",
    "version": 3
   },
   "file_extension": ".py",
   "mimetype": "text/x-python",
   "name": "python",
   "nbconvert_exporter": "python",
   "pygments_lexer": "ipython3",
   "version": "3.8.8"
  }
 },
 "nbformat": 4,
 "nbformat_minor": 5
}