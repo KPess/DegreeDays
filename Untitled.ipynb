{
 "cells": [
  {
   "cell_type": "code",
   "execution_count": 6,
   "id": "778d8022-686e-4c94-97f5-edba18938dc3",
   "metadata": {},
   "outputs": [],
   "source": [
    "import pandas as pd\n"
   ]
  },
  {
   "cell_type": "code",
   "execution_count": 53,
   "id": "1054e409-1f25-48b0-aab0-5ade1936f2d8",
   "metadata": {
    "tags": []
   },
   "outputs": [],
   "source": [
    "import numpy as np"
   ]
  },
  {
   "cell_type": "code",
   "execution_count": 40,
   "id": "0c2bcd91-a1ca-42ec-937c-896df0c9dead",
   "metadata": {
    "tags": []
   },
   "outputs": [],
   "source": [
    "df = pd.read_csv('../SynMax/Population Data.csv')"
   ]
  },
  {
   "cell_type": "code",
   "execution_count": 43,
   "id": "069cc539-c615-4a67-8348-444819ffac30",
   "metadata": {
    "tags": []
   },
   "outputs": [],
   "source": [
    "df2 = pd.read_csv('../Synmax/Temperature Data.csv')"
   ]
  },
  {
   "cell_type": "code",
   "execution_count": 44,
   "id": "28b712ee-a225-4e78-96fc-662eff5f9726",
   "metadata": {
    "tags": []
   },
   "outputs": [
    {
     "data": {
      "text/plain": [
       "pandas.core.frame.DataFrame"
      ]
     },
     "execution_count": 44,
     "metadata": {},
     "output_type": "execute_result"
    }
   ],
   "source": [
    "type(df2)"
   ]
  },
  {
   "cell_type": "code",
   "execution_count": 41,
   "id": "f0c4fa7d-ba93-4fe2-a72f-e1adf4e1f49f",
   "metadata": {},
   "outputs": [
    {
     "data": {
      "text/plain": [
       "pandas.core.frame.DataFrame"
      ]
     },
     "execution_count": 41,
     "metadata": {},
     "output_type": "execute_result"
    }
   ],
   "source": [
    "type(df)\n"
   ]
  },
  {
   "cell_type": "code",
   "execution_count": 42,
   "id": "6bae562a-5a4d-4f68-9079-3ebd9f8423a4",
   "metadata": {},
   "outputs": [
    {
     "data": {
      "text/plain": [
       "(285, 5)"
      ]
     },
     "execution_count": 42,
     "metadata": {},
     "output_type": "execute_result"
    }
   ],
   "source": [
    "df.shape"
   ]
  },
  {
   "cell_type": "code",
   "execution_count": 45,
   "id": "ad39521b-f916-4a09-9144-0dbf75df01c4",
   "metadata": {},
   "outputs": [
    {
     "data": {
      "text/plain": [
       "(89219, 9)"
      ]
     },
     "execution_count": 45,
     "metadata": {},
     "output_type": "execute_result"
    }
   ],
   "source": [
    "df2.shape"
   ]
  },
  {
   "cell_type": "code",
   "execution_count": 46,
   "id": "1a3cc978-e1db-4e22-98cb-2c16a36297da",
   "metadata": {},
   "outputs": [
    {
     "data": {
      "text/html": [
       "<div>\n",
       "<style scoped>\n",
       "    .dataframe tbody tr th:only-of-type {\n",
       "        vertical-align: middle;\n",
       "    }\n",
       "\n",
       "    .dataframe tbody tr th {\n",
       "        vertical-align: top;\n",
       "    }\n",
       "\n",
       "    .dataframe thead th {\n",
       "        text-align: right;\n",
       "    }\n",
       "</style>\n",
       "<table border=\"1\" class=\"dataframe\">\n",
       "  <thead>\n",
       "    <tr style=\"text-align: right;\">\n",
       "      <th></th>\n",
       "      <th>City</th>\n",
       "      <th>State</th>\n",
       "      <th>population</th>\n",
       "      <th>Lon</th>\n",
       "      <th>Lat</th>\n",
       "    </tr>\n",
       "  </thead>\n",
       "  <tbody>\n",
       "    <tr>\n",
       "      <th>0</th>\n",
       "      <td>Henderson</td>\n",
       "      <td>Nevada</td>\n",
       "      <td>260068</td>\n",
       "      <td>-115.0375</td>\n",
       "      <td>36.0122</td>\n",
       "    </tr>\n",
       "    <tr>\n",
       "      <th>1</th>\n",
       "      <td>Manchester</td>\n",
       "      <td>New Hampshire</td>\n",
       "      <td>109830</td>\n",
       "      <td>-71.4439</td>\n",
       "      <td>42.9847</td>\n",
       "    </tr>\n",
       "    <tr>\n",
       "      <th>2</th>\n",
       "      <td>Elizabeth</td>\n",
       "      <td>New Jersey</td>\n",
       "      <td>125660</td>\n",
       "      <td>-74.1935</td>\n",
       "      <td>40.6663</td>\n",
       "    </tr>\n",
       "    <tr>\n",
       "      <th>3</th>\n",
       "      <td>Newark</td>\n",
       "      <td>New Jersey</td>\n",
       "      <td>277540</td>\n",
       "      <td>-74.1726</td>\n",
       "      <td>40.7242</td>\n",
       "    </tr>\n",
       "    <tr>\n",
       "      <th>4</th>\n",
       "      <td>Paterson</td>\n",
       "      <td>New Jersey</td>\n",
       "      <td>146427</td>\n",
       "      <td>-74.1628</td>\n",
       "      <td>40.9147</td>\n",
       "    </tr>\n",
       "  </tbody>\n",
       "</table>\n",
       "</div>"
      ],
      "text/plain": [
       "         City          State  population       Lon      Lat\n",
       "0   Henderson         Nevada      260068 -115.0375  36.0122\n",
       "1  Manchester  New Hampshire      109830  -71.4439  42.9847\n",
       "2   Elizabeth     New Jersey      125660  -74.1935  40.6663\n",
       "3      Newark     New Jersey      277540  -74.1726  40.7242\n",
       "4    Paterson     New Jersey      146427  -74.1628  40.9147"
      ]
     },
     "execution_count": 46,
     "metadata": {},
     "output_type": "execute_result"
    }
   ],
   "source": [
    "df.head()"
   ]
  },
  {
   "cell_type": "code",
   "execution_count": 47,
   "id": "1b62fea8-b2bc-4c3b-8c63-e8f0c1c84cab",
   "metadata": {},
   "outputs": [
    {
     "data": {
      "text/html": [
       "<div>\n",
       "<style scoped>\n",
       "    .dataframe tbody tr th:only-of-type {\n",
       "        vertical-align: middle;\n",
       "    }\n",
       "\n",
       "    .dataframe tbody tr th {\n",
       "        vertical-align: top;\n",
       "    }\n",
       "\n",
       "    .dataframe thead th {\n",
       "        text-align: right;\n",
       "    }\n",
       "</style>\n",
       "<table border=\"1\" class=\"dataframe\">\n",
       "  <thead>\n",
       "    <tr style=\"text-align: right;\">\n",
       "      <th></th>\n",
       "      <th>name</th>\n",
       "      <th>country_name</th>\n",
       "      <th>country_code</th>\n",
       "      <th>continent</th>\n",
       "      <th>station_code</th>\n",
       "      <th>location_date</th>\n",
       "      <th>temp_mean_c</th>\n",
       "      <th>temp_min_c</th>\n",
       "      <th>temp_max_c</th>\n",
       "    </tr>\n",
       "  </thead>\n",
       "  <tbody>\n",
       "    <tr>\n",
       "      <th>0</th>\n",
       "      <td>Atlanta</td>\n",
       "      <td>UnitedStates</td>\n",
       "      <td>USA</td>\n",
       "      <td>North America</td>\n",
       "      <td>KATL</td>\n",
       "      <td>4/20/2021</td>\n",
       "      <td>17.491667</td>\n",
       "      <td>12.2</td>\n",
       "      <td>23.3</td>\n",
       "    </tr>\n",
       "    <tr>\n",
       "      <th>1</th>\n",
       "      <td>Windsor Locks</td>\n",
       "      <td>UnitedStates</td>\n",
       "      <td>USA</td>\n",
       "      <td>North America</td>\n",
       "      <td>KBDL</td>\n",
       "      <td>4/20/2021</td>\n",
       "      <td>13.887500</td>\n",
       "      <td>3.9</td>\n",
       "      <td>22.2</td>\n",
       "    </tr>\n",
       "    <tr>\n",
       "      <th>2</th>\n",
       "      <td>Nashville</td>\n",
       "      <td>UnitedStates</td>\n",
       "      <td>USA</td>\n",
       "      <td>North America</td>\n",
       "      <td>KBNA</td>\n",
       "      <td>4/20/2021</td>\n",
       "      <td>15.175000</td>\n",
       "      <td>6.7</td>\n",
       "      <td>23.3</td>\n",
       "    </tr>\n",
       "    <tr>\n",
       "      <th>3</th>\n",
       "      <td>Boise</td>\n",
       "      <td>UnitedStates</td>\n",
       "      <td>USA</td>\n",
       "      <td>North America</td>\n",
       "      <td>KBOI</td>\n",
       "      <td>4/20/2021</td>\n",
       "      <td>9.329167</td>\n",
       "      <td>1.7</td>\n",
       "      <td>15.6</td>\n",
       "    </tr>\n",
       "    <tr>\n",
       "      <th>4</th>\n",
       "      <td>Boston</td>\n",
       "      <td>UnitedStates</td>\n",
       "      <td>USA</td>\n",
       "      <td>North America</td>\n",
       "      <td>KBOS</td>\n",
       "      <td>4/20/2021</td>\n",
       "      <td>16.716667</td>\n",
       "      <td>10.0</td>\n",
       "      <td>23.9</td>\n",
       "    </tr>\n",
       "  </tbody>\n",
       "</table>\n",
       "</div>"
      ],
      "text/plain": [
       "            name  country_name country_code      continent station_code  \\\n",
       "0        Atlanta  UnitedStates          USA  North America         KATL   \n",
       "1  Windsor Locks  UnitedStates          USA  North America         KBDL   \n",
       "2      Nashville  UnitedStates          USA  North America         KBNA   \n",
       "3          Boise  UnitedStates          USA  North America         KBOI   \n",
       "4         Boston  UnitedStates          USA  North America         KBOS   \n",
       "\n",
       "  location_date  temp_mean_c  temp_min_c  temp_max_c  \n",
       "0     4/20/2021    17.491667        12.2        23.3  \n",
       "1     4/20/2021    13.887500         3.9        22.2  \n",
       "2     4/20/2021    15.175000         6.7        23.3  \n",
       "3     4/20/2021     9.329167         1.7        15.6  \n",
       "4     4/20/2021    16.716667        10.0        23.9  "
      ]
     },
     "execution_count": 47,
     "metadata": {},
     "output_type": "execute_result"
    }
   ],
   "source": [
    "df2.head()"
   ]
  },
  {
   "cell_type": "code",
   "execution_count": 48,
   "id": "0db3a2f4-0fc3-431f-adaa-a0c8a430141a",
   "metadata": {},
   "outputs": [
    {
     "data": {
      "text/html": [
       "<div>\n",
       "<style scoped>\n",
       "    .dataframe tbody tr th:only-of-type {\n",
       "        vertical-align: middle;\n",
       "    }\n",
       "\n",
       "    .dataframe tbody tr th {\n",
       "        vertical-align: top;\n",
       "    }\n",
       "\n",
       "    .dataframe thead th {\n",
       "        text-align: right;\n",
       "    }\n",
       "</style>\n",
       "<table border=\"1\" class=\"dataframe\">\n",
       "  <thead>\n",
       "    <tr style=\"text-align: right;\">\n",
       "      <th></th>\n",
       "      <th>City</th>\n",
       "      <th>State</th>\n",
       "      <th>population</th>\n",
       "      <th>Lon</th>\n",
       "      <th>Lat</th>\n",
       "    </tr>\n",
       "  </thead>\n",
       "  <tbody>\n",
       "    <tr>\n",
       "      <th>0</th>\n",
       "      <td>Henderson</td>\n",
       "      <td>Nevada</td>\n",
       "      <td>260068</td>\n",
       "      <td>-115.0375</td>\n",
       "      <td>36.0122</td>\n",
       "    </tr>\n",
       "    <tr>\n",
       "      <th>1</th>\n",
       "      <td>Manchester</td>\n",
       "      <td>New Hampshire</td>\n",
       "      <td>109830</td>\n",
       "      <td>-71.4439</td>\n",
       "      <td>42.9847</td>\n",
       "    </tr>\n",
       "    <tr>\n",
       "      <th>2</th>\n",
       "      <td>Elizabeth</td>\n",
       "      <td>New Jersey</td>\n",
       "      <td>125660</td>\n",
       "      <td>-74.1935</td>\n",
       "      <td>40.6663</td>\n",
       "    </tr>\n",
       "    <tr>\n",
       "      <th>3</th>\n",
       "      <td>Newark</td>\n",
       "      <td>New Jersey</td>\n",
       "      <td>277540</td>\n",
       "      <td>-74.1726</td>\n",
       "      <td>40.7242</td>\n",
       "    </tr>\n",
       "    <tr>\n",
       "      <th>4</th>\n",
       "      <td>Paterson</td>\n",
       "      <td>New Jersey</td>\n",
       "      <td>146427</td>\n",
       "      <td>-74.1628</td>\n",
       "      <td>40.9147</td>\n",
       "    </tr>\n",
       "    <tr>\n",
       "      <th>...</th>\n",
       "      <td>...</td>\n",
       "      <td>...</td>\n",
       "      <td>...</td>\n",
       "      <td>...</td>\n",
       "      <td>...</td>\n",
       "    </tr>\n",
       "    <tr>\n",
       "      <th>280</th>\n",
       "      <td>Miami</td>\n",
       "      <td>Florida</td>\n",
       "      <td>408750</td>\n",
       "      <td>-80.2086</td>\n",
       "      <td>25.7752</td>\n",
       "    </tr>\n",
       "    <tr>\n",
       "      <th>281</th>\n",
       "      <td>Hollywood</td>\n",
       "      <td>Florida</td>\n",
       "      <td>143357</td>\n",
       "      <td>-80.1646</td>\n",
       "      <td>26.0311</td>\n",
       "    </tr>\n",
       "    <tr>\n",
       "      <th>282</th>\n",
       "      <td>Fort Lauderdale</td>\n",
       "      <td>Florida</td>\n",
       "      <td>168528</td>\n",
       "      <td>-80.1439</td>\n",
       "      <td>26.1413</td>\n",
       "    </tr>\n",
       "    <tr>\n",
       "      <th>283</th>\n",
       "      <td>Pompano Beach</td>\n",
       "      <td>Florida</td>\n",
       "      <td>101617</td>\n",
       "      <td>-80.1290</td>\n",
       "      <td>26.2426</td>\n",
       "    </tr>\n",
       "    <tr>\n",
       "      <th>284</th>\n",
       "      <td>West Palm Beach</td>\n",
       "      <td>Florida</td>\n",
       "      <td>101043</td>\n",
       "      <td>-80.1266</td>\n",
       "      <td>26.7483</td>\n",
       "    </tr>\n",
       "  </tbody>\n",
       "</table>\n",
       "<p>285 rows × 5 columns</p>\n",
       "</div>"
      ],
      "text/plain": [
       "                City          State  population       Lon      Lat\n",
       "0          Henderson         Nevada      260068 -115.0375  36.0122\n",
       "1         Manchester  New Hampshire      109830  -71.4439  42.9847\n",
       "2          Elizabeth     New Jersey      125660  -74.1935  40.6663\n",
       "3             Newark     New Jersey      277540  -74.1726  40.7242\n",
       "4           Paterson     New Jersey      146427  -74.1628  40.9147\n",
       "..               ...            ...         ...       ...      ...\n",
       "280            Miami        Florida      408750  -80.2086  25.7752\n",
       "281        Hollywood        Florida      143357  -80.1646  26.0311\n",
       "282  Fort Lauderdale        Florida      168528  -80.1439  26.1413\n",
       "283    Pompano Beach        Florida      101617  -80.1290  26.2426\n",
       "284  West Palm Beach        Florida      101043  -80.1266  26.7483\n",
       "\n",
       "[285 rows x 5 columns]"
      ]
     },
     "execution_count": 48,
     "metadata": {},
     "output_type": "execute_result"
    }
   ],
   "source": [
    "df"
   ]
  },
  {
   "cell_type": "code",
   "execution_count": 49,
   "id": "01108ec4-1cb4-4271-ac98-0def50696f62",
   "metadata": {},
   "outputs": [
    {
     "data": {
      "text/html": [
       "<div>\n",
       "<style scoped>\n",
       "    .dataframe tbody tr th:only-of-type {\n",
       "        vertical-align: middle;\n",
       "    }\n",
       "\n",
       "    .dataframe tbody tr th {\n",
       "        vertical-align: top;\n",
       "    }\n",
       "\n",
       "    .dataframe thead th {\n",
       "        text-align: right;\n",
       "    }\n",
       "</style>\n",
       "<table border=\"1\" class=\"dataframe\">\n",
       "  <thead>\n",
       "    <tr style=\"text-align: right;\">\n",
       "      <th></th>\n",
       "      <th>name</th>\n",
       "      <th>country_name</th>\n",
       "      <th>country_code</th>\n",
       "      <th>continent</th>\n",
       "      <th>station_code</th>\n",
       "      <th>location_date</th>\n",
       "      <th>temp_mean_c</th>\n",
       "      <th>temp_min_c</th>\n",
       "      <th>temp_max_c</th>\n",
       "    </tr>\n",
       "  </thead>\n",
       "  <tbody>\n",
       "    <tr>\n",
       "      <th>0</th>\n",
       "      <td>Atlanta</td>\n",
       "      <td>UnitedStates</td>\n",
       "      <td>USA</td>\n",
       "      <td>North America</td>\n",
       "      <td>KATL</td>\n",
       "      <td>4/20/2021</td>\n",
       "      <td>17.491667</td>\n",
       "      <td>12.2</td>\n",
       "      <td>23.3</td>\n",
       "    </tr>\n",
       "    <tr>\n",
       "      <th>1</th>\n",
       "      <td>Windsor Locks</td>\n",
       "      <td>UnitedStates</td>\n",
       "      <td>USA</td>\n",
       "      <td>North America</td>\n",
       "      <td>KBDL</td>\n",
       "      <td>4/20/2021</td>\n",
       "      <td>13.887500</td>\n",
       "      <td>3.9</td>\n",
       "      <td>22.2</td>\n",
       "    </tr>\n",
       "    <tr>\n",
       "      <th>2</th>\n",
       "      <td>Nashville</td>\n",
       "      <td>UnitedStates</td>\n",
       "      <td>USA</td>\n",
       "      <td>North America</td>\n",
       "      <td>KBNA</td>\n",
       "      <td>4/20/2021</td>\n",
       "      <td>15.175000</td>\n",
       "      <td>6.7</td>\n",
       "      <td>23.3</td>\n",
       "    </tr>\n",
       "    <tr>\n",
       "      <th>3</th>\n",
       "      <td>Boise</td>\n",
       "      <td>UnitedStates</td>\n",
       "      <td>USA</td>\n",
       "      <td>North America</td>\n",
       "      <td>KBOI</td>\n",
       "      <td>4/20/2021</td>\n",
       "      <td>9.329167</td>\n",
       "      <td>1.7</td>\n",
       "      <td>15.6</td>\n",
       "    </tr>\n",
       "    <tr>\n",
       "      <th>4</th>\n",
       "      <td>Boston</td>\n",
       "      <td>UnitedStates</td>\n",
       "      <td>USA</td>\n",
       "      <td>North America</td>\n",
       "      <td>KBOS</td>\n",
       "      <td>4/20/2021</td>\n",
       "      <td>16.716667</td>\n",
       "      <td>10.0</td>\n",
       "      <td>23.9</td>\n",
       "    </tr>\n",
       "    <tr>\n",
       "      <th>...</th>\n",
       "      <td>...</td>\n",
       "      <td>...</td>\n",
       "      <td>...</td>\n",
       "      <td>...</td>\n",
       "      <td>...</td>\n",
       "      <td>...</td>\n",
       "      <td>...</td>\n",
       "      <td>...</td>\n",
       "      <td>...</td>\n",
       "    </tr>\n",
       "    <tr>\n",
       "      <th>89214</th>\n",
       "      <td>Sacramento/Execu</td>\n",
       "      <td>UnitedStates</td>\n",
       "      <td>USA</td>\n",
       "      <td>North America</td>\n",
       "      <td>KSAC</td>\n",
       "      <td>1/1/2015</td>\n",
       "      <td>3.500000</td>\n",
       "      <td>-1.7</td>\n",
       "      <td>10.6</td>\n",
       "    </tr>\n",
       "    <tr>\n",
       "      <th>89215</th>\n",
       "      <td>Portland</td>\n",
       "      <td>UnitedStates</td>\n",
       "      <td>USA</td>\n",
       "      <td>North America</td>\n",
       "      <td>KPWM</td>\n",
       "      <td>1/1/2015</td>\n",
       "      <td>-3.454167</td>\n",
       "      <td>-7.8</td>\n",
       "      <td>-0.6</td>\n",
       "    </tr>\n",
       "    <tr>\n",
       "      <th>89216</th>\n",
       "      <td>Raleigh/Durham</td>\n",
       "      <td>UnitedStates</td>\n",
       "      <td>USA</td>\n",
       "      <td>North America</td>\n",
       "      <td>KRDU</td>\n",
       "      <td>1/1/2015</td>\n",
       "      <td>3.291667</td>\n",
       "      <td>-4.4</td>\n",
       "      <td>10.6</td>\n",
       "    </tr>\n",
       "    <tr>\n",
       "      <th>89217</th>\n",
       "      <td>Pittsburgh</td>\n",
       "      <td>UnitedStates</td>\n",
       "      <td>USA</td>\n",
       "      <td>North America</td>\n",
       "      <td>KPIT</td>\n",
       "      <td>1/1/2015</td>\n",
       "      <td>-2.570833</td>\n",
       "      <td>-6.7</td>\n",
       "      <td>1.7</td>\n",
       "    </tr>\n",
       "    <tr>\n",
       "      <th>89218</th>\n",
       "      <td>Phoenix/Sky HRBR</td>\n",
       "      <td>UnitedStates</td>\n",
       "      <td>USA</td>\n",
       "      <td>North America</td>\n",
       "      <td>KPHX</td>\n",
       "      <td>1/1/2015</td>\n",
       "      <td>4.354167</td>\n",
       "      <td>1.7</td>\n",
       "      <td>7.2</td>\n",
       "    </tr>\n",
       "  </tbody>\n",
       "</table>\n",
       "<p>89219 rows × 9 columns</p>\n",
       "</div>"
      ],
      "text/plain": [
       "                   name  country_name country_code      continent  \\\n",
       "0               Atlanta  UnitedStates          USA  North America   \n",
       "1         Windsor Locks  UnitedStates          USA  North America   \n",
       "2             Nashville  UnitedStates          USA  North America   \n",
       "3                 Boise  UnitedStates          USA  North America   \n",
       "4                Boston  UnitedStates          USA  North America   \n",
       "...                 ...           ...          ...            ...   \n",
       "89214  Sacramento/Execu  UnitedStates          USA  North America   \n",
       "89215          Portland  UnitedStates          USA  North America   \n",
       "89216    Raleigh/Durham  UnitedStates          USA  North America   \n",
       "89217        Pittsburgh  UnitedStates          USA  North America   \n",
       "89218  Phoenix/Sky HRBR  UnitedStates          USA  North America   \n",
       "\n",
       "      station_code location_date  temp_mean_c  temp_min_c  temp_max_c  \n",
       "0             KATL     4/20/2021    17.491667        12.2        23.3  \n",
       "1             KBDL     4/20/2021    13.887500         3.9        22.2  \n",
       "2             KBNA     4/20/2021    15.175000         6.7        23.3  \n",
       "3             KBOI     4/20/2021     9.329167         1.7        15.6  \n",
       "4             KBOS     4/20/2021    16.716667        10.0        23.9  \n",
       "...            ...           ...          ...         ...         ...  \n",
       "89214         KSAC      1/1/2015     3.500000        -1.7        10.6  \n",
       "89215         KPWM      1/1/2015    -3.454167        -7.8        -0.6  \n",
       "89216         KRDU      1/1/2015     3.291667        -4.4        10.6  \n",
       "89217         KPIT      1/1/2015    -2.570833        -6.7         1.7  \n",
       "89218         KPHX      1/1/2015     4.354167         1.7         7.2  \n",
       "\n",
       "[89219 rows x 9 columns]"
      ]
     },
     "execution_count": 49,
     "metadata": {},
     "output_type": "execute_result"
    }
   ],
   "source": [
    "df2"
   ]
  },
  {
   "cell_type": "code",
   "execution_count": null,
   "id": "fee8fbaa-16fd-4bf2-8a4a-7e09dbc1e580",
   "metadata": {},
   "outputs": [],
   "source": []
  },
  {
   "cell_type": "code",
   "execution_count": null,
   "id": "ad2fec26-d2f2-4f38-84ee-652b9505c927",
   "metadata": {},
   "outputs": [],
   "source": []
  },
  {
   "cell_type": "code",
   "execution_count": null,
   "id": "4e65cf06-a7df-4f79-ba2e-697d8bb0b96a",
   "metadata": {},
   "outputs": [],
   "source": []
  },
  {
   "cell_type": "code",
   "execution_count": null,
   "id": "8921b4bc-60f6-4b21-a4c5-743f558f65e0",
   "metadata": {},
   "outputs": [],
   "source": []
  },
  {
   "cell_type": "code",
   "execution_count": null,
   "id": "5162ee22-3f15-40cc-b785-87156c6036f0",
   "metadata": {},
   "outputs": [],
   "source": []
  },
  {
   "cell_type": "code",
   "execution_count": null,
   "id": "75a175c2-2c2b-4a55-b9e9-847458758669",
   "metadata": {},
   "outputs": [],
   "source": []
  },
  {
   "cell_type": "code",
   "execution_count": 21,
   "id": "01c33702-f375-4571-8184-1235f3a88a7b",
   "metadata": {},
   "outputs": [
    {
     "data": {
      "text/plain": [
       "Index(['City', 'State', 'population', 'Lon', 'Lat'], dtype='object')"
      ]
     },
     "execution_count": 21,
     "metadata": {},
     "output_type": "execute_result"
    }
   ],
   "source": [
    "df.columns"
   ]
  },
  {
   "cell_type": "code",
   "execution_count": 22,
   "id": "032be9d7-b6df-47e8-9c92-6da70258f880",
   "metadata": {},
   "outputs": [
    {
     "data": {
      "text/plain": [
       "Index(['name', 'country_name', 'country_code', 'continent', 'station_code',\n",
       "       'location_date', 'temp_mean_c', 'temp_min_c', 'temp_max_c'],\n",
       "      dtype='object')"
      ]
     },
     "execution_count": 22,
     "metadata": {},
     "output_type": "execute_result"
    }
   ],
   "source": [
    "df2.columns"
   ]
  },
  {
   "cell_type": "code",
   "execution_count": 23,
   "id": "160827fa-97b2-43c4-a8cc-63739717ef13",
   "metadata": {},
   "outputs": [
    {
     "data": {
      "text/plain": [
       "array([['Henderson', 'Nevada', 260068, -115.0375, 36.0122],\n",
       "       ['Manchester', 'New Hampshire', 109830, -71.4439, 42.9847],\n",
       "       ['Elizabeth', 'New Jersey', 125660, -74.1935, 40.6663],\n",
       "       ...,\n",
       "       ['Fort Lauderdale', 'Florida', 168528, -80.1439, 26.1413],\n",
       "       ['Pompano Beach', 'Florida', 101617, -80.129, 26.2426],\n",
       "       ['West Palm Beach', 'Florida', 101043, -80.1266, 26.7483]],\n",
       "      dtype=object)"
      ]
     },
     "execution_count": 23,
     "metadata": {},
     "output_type": "execute_result"
    }
   ],
   "source": [
    "df.values"
   ]
  },
  {
   "cell_type": "code",
   "execution_count": 24,
   "id": "1bf8d4ba-a69f-4dfb-8d70-ac10e7dcb812",
   "metadata": {},
   "outputs": [
    {
     "data": {
      "text/plain": [
       "array([['Atlanta', 'UnitedStates', 'USA', ..., 17.4916667, 12.2, 23.3],\n",
       "       ['Windsor Locks', 'UnitedStates', 'USA', ..., 13.8875, 3.9, 22.2],\n",
       "       ['Nashville', 'UnitedStates', 'USA', ..., 15.175, 6.7, 23.3],\n",
       "       ...,\n",
       "       ['Raleigh/Durham', 'UnitedStates', 'USA', ..., 3.2916667, -4.4,\n",
       "        10.6],\n",
       "       ['Pittsburgh', 'UnitedStates', 'USA', ..., -2.5708333, -6.7, 1.7],\n",
       "       ['Phoenix/Sky HRBR', 'UnitedStates', 'USA', ..., 4.3541667, 1.7,\n",
       "        7.2]], dtype=object)"
      ]
     },
     "execution_count": 24,
     "metadata": {},
     "output_type": "execute_result"
    }
   ],
   "source": [
    "df2.values"
   ]
  },
  {
   "cell_type": "code",
   "execution_count": 55,
   "id": "c5cd52ee-e2d5-421a-a3a9-8367e3023f28",
   "metadata": {},
   "outputs": [],
   "source": [
    "df2bydate = df2.groupby(['location_date', 'name'])[['temp_mean_c', 'temp_min_c', 'temp_max_c']].agg(np.mean)"
   ]
  },
  {
   "cell_type": "code",
   "execution_count": 56,
   "id": "ff870ee8-861b-4023-9ee8-2590a7528d1a",
   "metadata": {},
   "outputs": [
    {
     "data": {
      "text/html": [
       "<div>\n",
       "<style scoped>\n",
       "    .dataframe tbody tr th:only-of-type {\n",
       "        vertical-align: middle;\n",
       "    }\n",
       "\n",
       "    .dataframe tbody tr th {\n",
       "        vertical-align: top;\n",
       "    }\n",
       "\n",
       "    .dataframe thead th {\n",
       "        text-align: right;\n",
       "    }\n",
       "</style>\n",
       "<table border=\"1\" class=\"dataframe\">\n",
       "  <thead>\n",
       "    <tr style=\"text-align: right;\">\n",
       "      <th></th>\n",
       "      <th></th>\n",
       "      <th>temp_mean_c</th>\n",
       "      <th>temp_min_c</th>\n",
       "      <th>temp_max_c</th>\n",
       "    </tr>\n",
       "    <tr>\n",
       "      <th>location_date</th>\n",
       "      <th>name</th>\n",
       "      <th></th>\n",
       "      <th></th>\n",
       "      <th></th>\n",
       "    </tr>\n",
       "  </thead>\n",
       "  <tbody>\n",
       "    <tr>\n",
       "      <th rowspan=\"5\" valign=\"top\">1/1/2015</th>\n",
       "      <th>Albany</th>\n",
       "      <td>-3.362500</td>\n",
       "      <td>-7.2</td>\n",
       "      <td>0.0</td>\n",
       "    </tr>\n",
       "    <tr>\n",
       "      <th>Atlanta</th>\n",
       "      <td>6.758333</td>\n",
       "      <td>0.0</td>\n",
       "      <td>13.9</td>\n",
       "    </tr>\n",
       "    <tr>\n",
       "      <th>Baltimore</th>\n",
       "      <td>-0.345833</td>\n",
       "      <td>-7.8</td>\n",
       "      <td>6.1</td>\n",
       "    </tr>\n",
       "    <tr>\n",
       "      <th>Boise</th>\n",
       "      <td>-11.070833</td>\n",
       "      <td>-13.9</td>\n",
       "      <td>-8.0</td>\n",
       "    </tr>\n",
       "    <tr>\n",
       "      <th>Boston</th>\n",
       "      <td>-2.329167</td>\n",
       "      <td>-5.6</td>\n",
       "      <td>0.6</td>\n",
       "    </tr>\n",
       "    <tr>\n",
       "      <th>...</th>\n",
       "      <th>...</th>\n",
       "      <td>...</td>\n",
       "      <td>...</td>\n",
       "      <td>...</td>\n",
       "    </tr>\n",
       "    <tr>\n",
       "      <th rowspan=\"5\" valign=\"top\">9/9/2020</th>\n",
       "      <th>Spokane</th>\n",
       "      <td>17.358333</td>\n",
       "      <td>8.9</td>\n",
       "      <td>26.1</td>\n",
       "    </tr>\n",
       "    <tr>\n",
       "      <th>St Louis/Lambert</th>\n",
       "      <td>23.937500</td>\n",
       "      <td>19.4</td>\n",
       "      <td>29.4</td>\n",
       "    </tr>\n",
       "    <tr>\n",
       "      <th>Wash DC/Dulles</th>\n",
       "      <td>23.179167</td>\n",
       "      <td>20.0</td>\n",
       "      <td>26.1</td>\n",
       "    </tr>\n",
       "    <tr>\n",
       "      <th>Washington</th>\n",
       "      <td>24.229167</td>\n",
       "      <td>22.8</td>\n",
       "      <td>26.1</td>\n",
       "    </tr>\n",
       "    <tr>\n",
       "      <th>Windsor Locks</th>\n",
       "      <td>22.425000</td>\n",
       "      <td>18.3</td>\n",
       "      <td>27.8</td>\n",
       "    </tr>\n",
       "  </tbody>\n",
       "</table>\n",
       "<p>86932 rows × 3 columns</p>\n",
       "</div>"
      ],
      "text/plain": [
       "                                temp_mean_c  temp_min_c  temp_max_c\n",
       "location_date name                                                 \n",
       "1/1/2015      Albany              -3.362500        -7.2         0.0\n",
       "              Atlanta              6.758333         0.0        13.9\n",
       "              Baltimore           -0.345833        -7.8         6.1\n",
       "              Boise              -11.070833       -13.9        -8.0\n",
       "              Boston              -2.329167        -5.6         0.6\n",
       "...                                     ...         ...         ...\n",
       "9/9/2020      Spokane             17.358333         8.9        26.1\n",
       "              St Louis/Lambert    23.937500        19.4        29.4\n",
       "              Wash DC/Dulles      23.179167        20.0        26.1\n",
       "              Washington          24.229167        22.8        26.1\n",
       "              Windsor Locks       22.425000        18.3        27.8\n",
       "\n",
       "[86932 rows x 3 columns]"
      ]
     },
     "execution_count": 56,
     "metadata": {},
     "output_type": "execute_result"
    }
   ],
   "source": [
    "df2bydate"
   ]
  },
  {
   "cell_type": "code",
   "execution_count": null,
   "id": "d5126a4e-1838-4087-ae09-9e25b6d495a2",
   "metadata": {},
   "outputs": [],
   "source": []
  }
 ],
 "metadata": {
  "kernelspec": {
   "display_name": "Python 3",
   "language": "python",
   "name": "python3"
  },
  "language_info": {
   "codemirror_mode": {
    "name": "ipython",
    "version": 3
   },
   "file_extension": ".py",
   "mimetype": "text/x-python",
   "name": "python",
   "nbconvert_exporter": "python",
   "pygments_lexer": "ipython3",
   "version": "3.8.8"
  }
 },
 "nbformat": 4,
 "nbformat_minor": 5
}
